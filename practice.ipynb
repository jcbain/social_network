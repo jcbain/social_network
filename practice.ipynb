{
 "cells": [
  {
   "cell_type": "code",
   "execution_count": 31,
   "metadata": {
    "collapsed": false
   },
   "outputs": [],
   "source": [
    "library(igraph)"
   ]
  },
  {
   "cell_type": "code",
   "execution_count": 32,
   "metadata": {
    "collapsed": false
   },
   "outputs": [],
   "source": [
    "t<-read.table('facebook_combined.txt',header = FALSE)"
   ]
  },
  {
   "cell_type": "code",
   "execution_count": 61,
   "metadata": {
    "collapsed": false
   },
   "outputs": [],
   "source": [
    "rawgraphdata <- graph.data.frame(t,directed=FALSE, vertices = NULL)"
   ]
  },
  {
   "cell_type": "code",
   "execution_count": 64,
   "metadata": {
    "collapsed": false
   },
   "outputs": [],
   "source": [
    "g <- barabasi.game(1000)\n",
    "d <- degree(g, mode=\"in\")\n",
    "fit1 <- power.law.fit(d+1, 10)\n",
    "fit2 <- power.law.fit(d+1, 10, implementation=\"R.mle\")"
   ]
  },
  {
   "cell_type": "code",
   "execution_count": 67,
   "metadata": {
    "collapsed": false
   },
   "outputs": [
    {
     "data": {
      "text/html": [
       "2.71638209617551"
      ],
      "text/latex": [
       "2.71638209617551"
      ],
      "text/markdown": [
       "2.71638209617551"
      ],
      "text/plain": [
       "[1] 2.716382"
      ]
     },
     "execution_count": 67,
     "metadata": {},
     "output_type": "execute_result"
    },
    {
     "data": {
      "text/html": [
       "-56.0431686884168"
      ],
      "text/latex": [
       "-56.0431686884168"
      ],
      "text/markdown": [
       "-56.0431686884168"
      ],
      "text/plain": [
       "[1] -56.04317"
      ]
     },
     "execution_count": 67,
     "metadata": {},
     "output_type": "execute_result"
    }
   ],
   "source": [
    "fit1$alpha\n",
    "\n",
    "fit1$logLik\n"
   ]
  },
  {
   "cell_type": "code",
   "execution_count": 72,
   "metadata": {
    "collapsed": true
   },
   "outputs": [],
   "source": [
    "d<-degree(rawgraphdata,mode='in')\n",
    "fit1 <- power.law.fit(d+1, 10)\n",
    "fit2 <- power.law.fit(d+1, 10, implementation=\"R.mle\")"
   ]
  },
  {
   "cell_type": "code",
   "execution_count": 74,
   "metadata": {
    "collapsed": false
   },
   "outputs": [
    {
     "data": {
      "text/html": [
       "1.72716110997645"
      ],
      "text/latex": [
       "1.72716110997645"
      ],
      "text/markdown": [
       "1.72716110997645"
      ],
      "text/plain": [
       "[1] 1.727161"
      ]
     },
     "execution_count": 74,
     "metadata": {},
     "output_type": "execute_result"
    },
    {
     "data": {
      "text/html": [
       "-16192.3363505597"
      ],
      "text/latex": [
       "-16192.3363505597"
      ],
      "text/markdown": [
       "-16192.3363505597"
      ],
      "text/plain": [
       "[1] -16192.34"
      ]
     },
     "execution_count": 74,
     "metadata": {},
     "output_type": "execute_result"
    }
   ],
   "source": [
    "fit1$alpha\n",
    "fit1$logLik"
   ]
  },
  {
   "cell_type": "code",
   "execution_count": null,
   "metadata": {
    "collapsed": true
   },
   "outputs": [],
   "source": []
  }
 ],
 "metadata": {
  "kernelspec": {
   "display_name": "R",
   "language": "R",
   "name": "ir"
  },
  "language_info": {
   "codemirror_mode": "r",
   "file_extension": ".r",
   "mimetype": "text/x-r-source",
   "name": "R",
   "pygments_lexer": "r",
   "version": "3.2.3"
  }
 },
 "nbformat": 4,
 "nbformat_minor": 0
}
